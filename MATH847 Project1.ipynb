{
 "cells": [
  {
   "cell_type": "code",
   "execution_count": 112,
   "metadata": {},
   "outputs": [],
   "source": [
    "import numpy as np\n",
    "from numpy import *"
   ]
  },
  {
   "cell_type": "code",
   "execution_count": 113,
   "metadata": {},
   "outputs": [],
   "source": [
    "def upperTri(A,b,m): #A is a m x m upper triangular matrix, b the resulting matrix\n",
    "    x= np.zeros((m,1)) # create an m x 1 vector\n",
    "    for i in range(m-1, -1, -1): #begin in the last row, work up to the first row\n",
    "        y = b[i]\n",
    "        for j in range(i+1, m):\n",
    "            y = y-A[i,j]*x[j] #iteratively find the ith x-value, given the previous solutions\n",
    "        x[i]=y/A[i,i]\n",
    "    return x #return the solution"
   ]
  },
  {
   "cell_type": "code",
   "execution_count": 114,
   "metadata": {},
   "outputs": [],
   "source": [
    "def myQR(A): #input any matrix\n",
    "    m,n=shape(A) #find the number of rows and columns\n",
    "    \n",
    "    Q=np.zeros((m,n)) #create an m x n matrix\n",
    "    R=np.zeros((n,n)) #create an n x n matrix\n",
    "    \n",
    "    for i in range(0,n): #copy the input matrix\n",
    "        Q[:,i]=A[:,i]\n",
    "        \n",
    "    for i in range(0,n): #iterate through the column vectors\n",
    "        R[i,i]=np.linalg.norm(Q[:,i],2) #find the norm of the ith column, put it on the R diagonal\n",
    "        Q[:,i] = Q[:,i]/R[i,i] #normalize the ith column\n",
    "        for j in range(i+1,n): #apply the projector to the later columns\n",
    "            R[i,j]=Q[:,i].T.dot(Q[:,j])\n",
    "            Q[:,j]=Q[:,j]-R[i,j]*Q[:,i]\n",
    "    return Q,R #return the Q and R matrices"
   ]
  },
  {
   "cell_type": "code",
   "execution_count": 115,
   "metadata": {},
   "outputs": [
    {
     "name": "stdout",
     "output_type": "stream",
     "text": [
      "The error is 1.5002010579959058e-14\n"
     ]
    }
   ],
   "source": [
    "#upper triangular function test\n",
    "m=10\n",
    "\n",
    "#create random matrix and solution, find the resulting vector\n",
    "A = np.triu(np.random.rand(m,m),0) \n",
    "x_exact = np.random.rand(m,1)\n",
    "b = A.dot(x_exact)\n",
    "\n",
    "#find the solution given by the function, test its accuracy\n",
    "x = upperTri(A,b,m)\n",
    "error = np.linalg.norm(x-x_exact,2)\n",
    "print(\"The error is\",error)"
   ]
  },
  {
   "cell_type": "code",
   "execution_count": 116,
   "metadata": {},
   "outputs": [
    {
     "name": "stdout",
     "output_type": "stream",
     "text": [
      "The Q error is 2.7755575615628914e-16\n",
      "The R error is 3.885780586188048e-16\n"
     ]
    }
   ],
   "source": [
    "#QR function test\n",
    "A=np.array([[1.,1.,0.],[1.,0.,1.],[0.,1.,1.]])\n",
    "Q_exact=np.array([[1/sqrt(2),1/sqrt(6),-1/sqrt(3)],[1/sqrt(2),-1/sqrt(6), 1/sqrt(3)],[0,2/sqrt(6), 1/sqrt(3)]])\n",
    "R_exact=np.array([[2/sqrt(2), 1/sqrt(2),1/sqrt(2)],[0,3/sqrt(6), 1/sqrt(6)], [0, 0, 2/sqrt(3)]])\n",
    "\n",
    "#find the Q and R given by the function, test against the actual Q and R\n",
    "Q_computed,R_computed=myQR(A)\n",
    "Q_error = np.linalg.norm(Q_exact-Q_computed)\n",
    "R_error = np.linalg.norm(R_exact-R_computed)\n",
    "print(\"The Q error is\",Q_error)\n",
    "print(\"The R error is\",R_error)"
   ]
  },
  {
   "cell_type": "code",
   "execution_count": 117,
   "metadata": {},
   "outputs": [
    {
     "name": "stdout",
     "output_type": "stream",
     "text": [
      "The error is 1.5280240350790442e-12 with size 10\n"
     ]
    }
   ],
   "source": [
    "#Solving a system using the two functions\n",
    "m=10\n",
    "\n",
    "#create random matrix and solution, find the resulting vector\n",
    "A=np.random.rand(m,m)\n",
    "x_exact = np.random.rand(m,1)\n",
    "b=A.dot(x_exact)\n",
    "\n",
    "#find the Q and R from the function, run through to find the solution given by the upper triangular function\n",
    "Q,R=myQR(A)\n",
    "y=Q.T.dot(b)\n",
    "x=upperTri(R,y,m)\n",
    "\n",
    "#check the accuracy of the solution method\n",
    "error = np.linalg.norm(x-x_exact,2)\n",
    "\n",
    "print(\"The error is\", error, \"with size\", m)"
   ]
  },
  {
   "cell_type": "code",
   "execution_count": null,
   "metadata": {},
   "outputs": [],
   "source": []
  }
 ],
 "metadata": {
  "kernelspec": {
   "display_name": "Python 3",
   "language": "python",
   "name": "python3"
  },
  "language_info": {
   "codemirror_mode": {
    "name": "ipython",
    "version": 3
   },
   "file_extension": ".py",
   "mimetype": "text/x-python",
   "name": "python",
   "nbconvert_exporter": "python",
   "pygments_lexer": "ipython3",
   "version": "3.6.4"
  }
 },
 "nbformat": 4,
 "nbformat_minor": 2
}
